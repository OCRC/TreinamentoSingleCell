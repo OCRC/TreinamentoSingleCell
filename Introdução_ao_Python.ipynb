{
  "nbformat": 4,
  "nbformat_minor": 0,
  "metadata": {
    "colab": {
      "name": "Introdução_ao_Python.ipynb",
      "provenance": [],
      "authorship_tag": "ABX9TyP4ZZLwhaX65amqI+CJzdSr",
      "include_colab_link": true
    },
    "kernelspec": {
      "name": "python3",
      "display_name": "Python 3"
    }
  },
  "cells": [
    {
      "cell_type": "markdown",
      "metadata": {
        "id": "view-in-github",
        "colab_type": "text"
      },
      "source": [
        "<a href=\"https://colab.research.google.com/github/OCRC/TreinamentoSingleCell/blob/main/Introdu%C3%A7%C3%A3o_ao_Python.ipynb\" target=\"_parent\"><img src=\"https://colab.research.google.com/assets/colab-badge.svg\" alt=\"Open In Colab\"/></a>"
      ]
    },
    {
      "cell_type": "markdown",
      "metadata": {
        "id": "UCVvy4HV_xgq"
      },
      "source": [
        "## Introdução à programação em Python!\r\n",
        "\r\n"
      ]
    },
    {
      "cell_type": "code",
      "metadata": {
        "colab": {
          "base_uri": "https://localhost:8080/"
        },
        "id": "fcn5Q8K__wyK",
        "outputId": "51275c67-2765-46c7-b2d5-c38327ffbc1c"
      },
      "source": [
        "a = 2\r\n",
        "print(a)"
      ],
      "execution_count": null,
      "outputs": [
        {
          "output_type": "stream",
          "text": [
            "2\n"
          ],
          "name": "stdout"
        }
      ]
    },
    {
      "cell_type": "code",
      "metadata": {
        "colab": {
          "base_uri": "https://localhost:8080/"
        },
        "id": "wgjcqI45AHN1",
        "outputId": "78ab4131-a71f-421f-8302-0f536ad80e46"
      },
      "source": [
        "b = 4\r\n",
        "\r\n",
        "c = a + b\r\n",
        "\r\n",
        "print(c)"
      ],
      "execution_count": null,
      "outputs": [
        {
          "output_type": "stream",
          "text": [
            "6\n"
          ],
          "name": "stdout"
        }
      ]
    },
    {
      "cell_type": "markdown",
      "metadata": {
        "id": "08bJ7iypAMym"
      },
      "source": [
        "## Classes de objetos em python\r\n",
        "\r\n"
      ]
    },
    {
      "cell_type": "code",
      "metadata": {
        "colab": {
          "base_uri": "https://localhost:8080/"
        },
        "id": "1jO31QXPAMkq",
        "outputId": "17929829-2530-443c-d00d-6ad635033937"
      },
      "source": [
        "type('Isso é um string')"
      ],
      "execution_count": null,
      "outputs": [
        {
          "output_type": "execute_result",
          "data": {
            "text/plain": [
              "str"
            ]
          },
          "metadata": {
            "tags": []
          },
          "execution_count": 3
        }
      ]
    }
  ]
}