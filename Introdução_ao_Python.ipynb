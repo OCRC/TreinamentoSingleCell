{
  "nbformat": 4,
  "nbformat_minor": 0,
  "metadata": {
    "colab": {
      "name": "Cópia de Introdução_ao_Python.ipynb",
      "provenance": [],
      "include_colab_link": true
    },
    "kernelspec": {
      "name": "python3",
      "display_name": "Python 3"
    }
  },
  "cells": [
    {
      "cell_type": "markdown",
      "metadata": {
        "id": "view-in-github",
        "colab_type": "text"
      },
      "source": [
        "<a href=\"https://colab.research.google.com/github/OCRC/TreinamentoSingleCell/blob/main/Introdu%C3%A7%C3%A3o_ao_Python.ipynb\" target=\"_parent\"><img src=\"https://colab.research.google.com/assets/colab-badge.svg\" alt=\"Open In Colab\"/></a>"
      ]
    },
    {
      "cell_type": "markdown",
      "metadata": {
        "id": "UCVvy4HV_xgq"
      },
      "source": [
        "## Introdução à programação em Python!\r\n",
        "\r\n"
      ]
    },
    {
      "cell_type": "markdown",
      "metadata": {
        "id": "nRrh-C_mzxj2"
      },
      "source": [
        "> O que é uma linguagem de programação?\r\n",
        "\r\n",
        "É literalmente um vocabulário, com regras e sintaxe, que usamos para 'conversarmos' com nossos computadores. Podemos nos comunicar com o computador para fazer desde as aplicações mais simples, como uma calculadora, até analisar dados de um estudo de sequenciamento single-cell.\r\n",
        "\r\n",
        "> Por que começar com Python?\r\n",
        "\r\n",
        "É uma das linguagens fáceis de aprender e uma das mais usadas no mundo todo. Assim, sempre que tiver alguma dúvida fica fácil achar um tutorial na internet para resolver a sua dúvida, além de ter vários cursos e apostilas gratuitos [Olha só esse site!](https://python.org.br/introducao/)\r\n",
        "\r\n",
        "> Lá vamos nós!\r\n",
        "\r\n",
        "Daqui para baixo, você já estará aprendendo e exercitando programar em Python!\r\n"
      ]
    },
    {
      "cell_type": "markdown",
      "metadata": {
        "id": "YKYE-6707jk0"
      },
      "source": [
        "# Variáveis e atribuição"
      ]
    },
    {
      "cell_type": "markdown",
      "metadata": {
        "id": "QvnE5_8L7v0z"
      },
      "source": [
        "Existem milhares de similaridades entre várias linguagens de programação. Duas delas são os conceitos de variável e do comando de atribuição (=).\r\n",
        "\r\n",
        "> Uma variável, em programação, é um espaço de memória que tem um **nome** único e específico para guardar uma **informação** específica, qualquer seja ela. Ou seja, ela tem um nome e um conteúdo. Funciona como uma caixa, onde você pode dar nome para essa caixa e colocar o que você quiser lá dentro. \r\n",
        "\r\n",
        "Para colocar qualquer coisa nessa caixa, usamos a atribuição, que tem o sinal de = (igual). Ou seja, em progração, quase sempre que vemos um \"=\" (igual) não estamos falando que uma coisa é igual a outra, mas sim estamos colocando alguma coisa dentro de uma variável. \r\n",
        "Obs: para comparar igualdade, utilizamos (==). \r\n",
        "\r\n",
        "Funciona assim:\r\n",
        "Se digitarmos no Python\r\n",
        "\r\n",
        "\r\n",
        "\r\n",
        "```\r\n",
        "a=2\r\n",
        "```\r\n",
        "\r\n",
        "\r\n",
        "\r\n",
        "O computador vai entender que ele precisa gravar essa informação (o número 2) na variável \"a\". Podemos ler isso na linguagem \"humana\" como \r\n",
        "\r\n",
        "```\r\n",
        "a variável \"a\" recebe o valor de 2\r\n",
        "```\r\n",
        "\r\n",
        "Teste abaixo:\r\n",
        "\r\n"
      ]
    },
    {
      "cell_type": "code",
      "metadata": {
        "id": "fcn5Q8K__wyK"
      },
      "source": [
        "a = 2"
      ],
      "execution_count": 14,
      "outputs": []
    },
    {
      "cell_type": "markdown",
      "metadata": {
        "id": "fGqpnwO4BCFI"
      },
      "source": [
        "> Parece que nada aconteceu, certo? Na verdade, o computador atribuiu 2 para a variável a, mas ele não mostrou isso para a gente. Para mostrar o que tem dentro de qualquer variável, utilizamos o comando **print()**, onde dentro dos parênteses colocamos o nome da variável. Se não utilizarmos esse comando, o computador não mostrará nenhum valor. Lembre-se que o computador faz tudo o que você pedir para ele, mas não faz o que você não pede. Ou seja, sempre que quiser ver o conteúdo de uma variável, você tem que pedir para ele usando o comando print()\r\n",
        "Vamos tentar novamente:"
      ]
    },
    {
      "cell_type": "code",
      "metadata": {
        "colab": {
          "base_uri": "https://localhost:8080/"
        },
        "id": "TRXBe6jiBpJW",
        "outputId": "f4cd1ef8-2c89-4bc5-e3a1-106cd94f0ddc"
      },
      "source": [
        "a=2\r\n",
        "print (a)"
      ],
      "execution_count": null,
      "outputs": [
        {
          "output_type": "stream",
          "text": [
            "2\n"
          ],
          "name": "stdout"
        }
      ]
    },
    {
      "cell_type": "markdown",
      "metadata": {
        "id": "6xB-7Y5QB4SR"
      },
      "source": [
        "Vamos começar a brincar agora! Lembra que eu falei da calculadora? Vamos fazer alguns cálculos"
      ]
    },
    {
      "cell_type": "code",
      "metadata": {
        "colab": {
          "base_uri": "https://localhost:8080/"
        },
        "id": "wgjcqI45AHN1",
        "outputId": "c2775573-9d24-4783-8d69-3dbcee621500"
      },
      "source": [
        "b = 2\r\n",
        "\r\n",
        "soma = a + b\r\n",
        "print(soma)\r\n",
        "soma = a + b + 2\r\n",
        "print(soma)\r\n",
        "soma = soma + a\r\n",
        "print(soma)"
      ],
      "execution_count": 15,
      "outputs": [
        {
          "output_type": "stream",
          "text": [
            "4\n",
            "6\n",
            "8\n"
          ],
          "name": "stdout"
        }
      ]
    },
    {
      "cell_type": "markdown",
      "metadata": {
        "id": "Fm3w6vXpFbFH"
      },
      "source": [
        "> Aqui vemos outro recurso interessante: uma variável pode ser atribuida a ela mesma, ou seja, ela pode acumular conteúdo"
      ]
    },
    {
      "cell_type": "markdown",
      "metadata": {
        "id": "FvAzQhfUX4kE"
      },
      "source": [
        "Uma variável pode ser atribuida não somente a números inteiros: podem ser números com vírgulas ou mesmo letras. Se quisermos que o computador entenda alguma coisa como letra, devemos colocar essa coisa entre aspas simples (' ').\r\n",
        "Observe:"
      ]
    },
    {
      "cell_type": "code",
      "metadata": {
        "colab": {
          "base_uri": "https://localhost:8080/"
        },
        "id": "g4BpBI94X3cu",
        "outputId": "311bd033-287b-4884-aee6-324ad178deff"
      },
      "source": [
        "a=2\r\n",
        "b=3.4\r\n",
        "soma= a+b\r\n",
        "print(soma)\r\n",
        "a= 'o'\r\n",
        "b= 'i'\r\n",
        "soma = a+b\r\n",
        "print(soma)\r\n"
      ],
      "execution_count": 16,
      "outputs": [
        {
          "output_type": "stream",
          "text": [
            "5.4\n",
            "oi\n"
          ],
          "name": "stdout"
        }
      ]
    },
    {
      "cell_type": "markdown",
      "metadata": {
        "id": "wYPPTrDtZpbK"
      },
      "source": [
        "OBS: tudo que estiver entre aspas simples (' '), será considerado pelo computador como um caractere, um dígito do teclado. Isso vale para letras, números, simbolos, espaço ou frases inteiras. \r\n",
        "\r\n",
        "OBS2: Se um número estiver entre aspas simples, ele será entendido como algarismo, não como uma quantidade, ou seja, não é possível, por exemplo, somar valores, apenas juntar caracteres. \r\n",
        "\r\n",
        "Observe:"
      ]
    },
    {
      "cell_type": "code",
      "metadata": {
        "colab": {
          "base_uri": "https://localhost:8080/"
        },
        "id": "WtSK93HiaWVW",
        "outputId": "3d129712-03e9-417f-a452-fccd961470bd"
      },
      "source": [
        "a= 'Hoje é dia '\r\n",
        "b= '2'\r\n",
        "c= '4'\r\n",
        "print(a+b+c)\r\n"
      ],
      "execution_count": 17,
      "outputs": [
        {
          "output_type": "stream",
          "text": [
            "Hoje é dia 24\n"
          ],
          "name": "stdout"
        }
      ]
    },
    {
      "cell_type": "markdown",
      "metadata": {
        "id": "08bJ7iypAMym"
      },
      "source": [
        "\r\n",
        "## Objetos e Classes em Python"
      ]
    },
    {
      "cell_type": "markdown",
      "metadata": {
        "id": "k51mZgRWGlYI"
      },
      "source": [
        "Agora que estamos familiarizados com a ideia de variáveis, vamos um pouco mais fundo na teoria. \r\n",
        "\r\n",
        "Python, por definição, é uma linguagem orientada a objetos. Mas afinal, o que são objetos? \r\n",
        "\r\n",
        "Assim como na vida real, um objeto é algo que pode ser descrito por ter atributos característicos e também com uma função específica. \r\n",
        "\r\n",
        "Por exemplo, escova de cabelo é um objeto. Podemos imaginar que uma escova de cabelo, tem vários atributos, como cor, tamanho, material de fabricação, etc e ainda carrega a sua função de escovar. Ou seja, ao ter na mão uma escova, você tem acesso tanto aos seus atributos, quanto às suas funções.\r\n",
        "\r\n",
        "Então agora na sua cabeça há dois conceitos: de variáveis e de objetos. Mas, se pensarmos bem, uma variável nada mais é do que um objeto de apenas um atributo, sem função definida. Ou seja, variável é um objeto que nos trás some um conteúdo, seja ele um valor ou um caractere. \r\n",
        "\r\n",
        "A ideia agora então é trabalhar com objetos, ou seja, que possuem mais de um atributo e ainda nos trazem funções. O conceito de atributo já foi abordado, vamos agora explicitar o que é uma função:\r\n",
        "> Função, em programação, é um conjunto de passos que pega um dado de entrada que está entre parênteses (), processa esse dado (ou seja, manipula, faz algum tipo de operação com ele) e gera um resultado. Esse resultado pode ser alguma alteração no programa, ou mesmo um dado de saída. O dado de entrada está entre parênteses. \r\n",
        "Exemplo:\r\n",
        "\r\n",
        "\r\n",
        "```\r\n",
        "a = f(x)\r\n",
        "```\r\n",
        "Isso pode ser entendido como: um objeto \"a\" que vai receber o resultado da função \"f\" que tem como entrada a variável \"x\". Perceba que o conjunto de passos presente em f(x) não está explícito, por motivos que veremos a seguir.\r\n",
        "\r\n",
        "Mas nem sempre as funções precisam ser atribuídas a um objeto. Foi o caso da função \"print()\" que usamos desde o começo do nosso projeto. Basta usar o comando abaixo que o computador entende que se trata de uma função que não precisa retornar nenhum valor, basta seguir o conjunto de passos que vai é imprimir na nossa tela o valor de x: \r\n",
        "```\r\n",
        "print(x)\r\n",
        "```\r\n",
        "OBS: O objetivo aqui não é explicar como fazer uma função, apenas entender o seu funcionamento. Isso porque o uso de funções nos facilita em dois propósitos do nosso treinamento:\r\n",
        "\r\n",
        "1) De economizar linhas de código, melhorar a visualização, evitar coisas repetidas: Pense que dentro de cada função tem um conjunto de passos, ou seja, de linhas de código que são substituídas por apenas 1 linha. Assim, vamos supor que se a função print() tem um conjunto de passos que ocupa 100 linhas e vamos precisar imprimir o valor de 3 variáveis no código. Ao invés de escrevermos 300 linhas que seriam 3 repetições de um mesmo código, podemos substuir por uma linha que seria algo como print(a,b,c);\r\n",
        "\r\n",
        "2) Facilita a criação de um *módulo*, ou seja, um conjunto de funções que pode ser compartilhada, sendo assim uma ferramenta que pode ser exportada e importada para outros utilizarem: Imagine que você precise utilizar operações mais complexas, como a raiz quadrada. Como calcular a raiz quadrada de qualquer número? Bem, você pode quebrar a cabeça para tentar implementar isso manualmente por linhas de código ou pode importar a biblioteca \"math\" (de matemática) e utilizar a função \"sqrt(número)\", que calcula isso para você. Nesse caso, alguém já fez a parte difícil, basta você utilizar a ferramenta. Vamos fazer isso mais tarde.\r\n",
        "\r\n",
        "Agora que entendemos os atributos e as funções que um objeto, vamos entender como um objeto pode ter mais de um atributo ou função. Basicamente, a notação para isso é:\r\n",
        "\r\n",
        "\r\n",
        "```\r\n",
        "nome da variável + ponto (.) + nome do atributo/função. \r\n",
        "Exemplo:\r\n",
        "a.valorA= 1\r\n",
        "a.valorB= 3\r\n",
        "a.soma()\r\n",
        "```\r\n",
        "Ou seja, dentro do objeto \"a\" temos dois atributos, \"valorA\" e \"valorB\" e uma função \"soma()\"\r\n",
        "\r\n",
        "Para saber quais atributos ou funções um determinado objeto possui, precisamos verificar a sua classe. Classe é o conjunto de atributos e métodos (por convenção, ao falarmos de classe utilizamos métodos como sinônimo de funções) que um objeto pode possuir. Ou seja, é a definição de todos os atributos e funções que estão previamente armazenadas para um objeto daquele tipo. \r\n",
        "\r\n",
        "> Por exemplo, imagine um avião de passageiros, com duas classes: a econômica e a primeira classe. A classe econômica é muito grande, pois possui um grande número de objetos (assentos). Assim, para localizarmos um assento, precisamos de dois atributos: de um número (geralmente de \"1\" a \"30\") seguido de uma letra (geralmente de \"A\" a \"E\"). Já na primeira classe, mais seleta, precisamos apenas de um número para localizarmos um acento. Perceba que nessa analogia tive que explicitar como os objetos da classe econômica estão dispostos. É justamente o que temos que fazer ao criarmos uma classe.\r\n",
        "\r\n",
        "Assim:\r\n",
        "\r\n",
        "```\r\n",
        "a = ClasseEconômica() //um objeto \"A\" da classe econômica\r\n",
        "b = ClassePrimeira() //um objeto \"B\" da primeira classe\r\n",
        "\r\n",
        "Teríamos como atributos:\r\n",
        "a.número = 11\r\n",
        "a.letra = 'A'\r\n",
        "a.nomePassageiro = Bruno\r\n",
        "\r\n",
        "b.número = 3\r\n",
        "b.nomePassageiro = Davi\r\n",
        "```\r\n",
        "\r\n",
        "Nesse exemplo utilizamos duas classes imaginárias, ClasseEconômica, com 3 atributos, e ClassePrimeira, com 2 atributos. Essas classes deveriam ter sido previamente criadas ou importadas de um módulo/biblioteca já existente. Após isso, criamos nosso objeto e indicamos que pertece a determinada classe.\r\n",
        "\r\n",
        "> Objetos simples, como variáveis, não demandam que essa indição seja explícita, já que o programa consegue identificar sozinho  a que classe o objeto pertence a partir do seu conteúdo. Ou seja, entende que se trata de um número inteiro, ou um com vírgula ou um caractere.\r\n",
        "\r\n",
        "> OBS: A definição de classe aqui é extremamente simplificada, já que a ideia principal é entendermos o conceito para utilizarmos na importação de bibliotecas e não aprendermos como criar sua própria classe. [Saca só esse tutorial se quiser saber mais](http://pythonclub.com.br/introducao-classes-metodos-python-basico.html)\r\n",
        "\r\n",
        "Você deve ter percebido que tanto funções quanto classes inteiras podem ser importadas e exportadas. Isso facilita muito a vida de programadores, já que diversas funções podem ser importadas e utilizadas de prontidão. É basicamente o que vamos fazer durante o resto do treinamento.\r\n",
        "\r\n",
        "Veja um exemplo:\r\n",
        "\r\n",
        "\r\n",
        "\r\n",
        "\r\n",
        "\r\n",
        "\r\n",
        "\r\n",
        "\r\n",
        "\r\n"
      ]
    },
    {
      "cell_type": "code",
      "metadata": {
        "id": "WHjfZF37SsUj",
        "colab": {
          "base_uri": "https://localhost:8080/"
        },
        "outputId": "20b12f1a-14b8-4d27-fb9e-7f2c1299f6e9"
      },
      "source": [
        "import math\r\n",
        "c= 4\r\n",
        "b= math.sqrt(c)\r\n",
        "b = b + math.pi\r\n",
        "print(b)"
      ],
      "execution_count": 13,
      "outputs": [
        {
          "output_type": "stream",
          "text": [
            "5.141592653589793\n"
          ],
          "name": "stdout"
        }
      ]
    },
    {
      "cell_type": "markdown",
      "metadata": {
        "id": "ZY9oy7pKaExV"
      },
      "source": [
        "Aqui importamos a biblioteca \"math\", que possui várias funções para cálculos matemáticos (como sqrt()), bem como vários atributo, como constantes (pi). [Veja nessa página](https://docs.python.org/3/library/math.html) a infinidade de atributos e funções dessa biblioteca, que podemos utilizar amplamente.\r\n",
        "\r\n",
        "Essa é uma biblioteca padrão, que já acompanha o Python. Algumas bibliotecas precisam ser instaladas manualmente antes de serem utilizadas. \r\n",
        "\r\n",
        "Exemplo:\r\n"
      ]
    },
    {
      "cell_type": "code",
      "metadata": {
        "id": "e0H4HLeQhsIb"
      },
      "source": [
        "!pip install numpy"
      ],
      "execution_count": null,
      "outputs": []
    },
    {
      "cell_type": "markdown",
      "metadata": {
        "id": "vcNRaYrMhv1Z"
      },
      "source": [
        "Esse comando instalará a biblioteca NumPy no nosso notebook \r\n",
        "\r\n",
        "Podemos ver como utilizar em [NumPy](https://numpy.org/devdocs/contents.html)\r\n",
        "\r\n",
        "Aqui vai um exemplo:"
      ]
    },
    {
      "cell_type": "code",
      "metadata": {
        "colab": {
          "base_uri": "https://localhost:8080/"
        },
        "id": "4P_5XjgMiNQ1",
        "outputId": "0c84ac39-39bc-44f2-afd0-561b48e1b732"
      },
      "source": [
        "import numpy\r\n",
        "\r\n",
        "a= numpy.arange(5)\r\n",
        "print(a)"
      ],
      "execution_count": 23,
      "outputs": [
        {
          "output_type": "stream",
          "text": [
            "[0 1 2 3 4]\n"
          ],
          "name": "stdout"
        }
      ]
    },
    {
      "cell_type": "markdown",
      "metadata": {
        "id": "6Jwis8nCjDr6"
      },
      "source": [
        "Aqui temos um objeto \"a\" que tem como atributo uma **matriz** gerada pela função \"numpy.arange()\", que teve como parâmetro o número 5. A função cria uma matriz com 5 elementos. Se quiser saber sobre essa função mais [clica aqui](https://numpy.org/devdocs/user/absolute_beginners.html#how-to-create-a-basic-array)\r\n",
        "\r\n",
        "Vamos brincar com alguma coisa mais \"palpável e/ou vísivel\". Execute os códigos a seguir:"
      ]
    },
    {
      "cell_type": "code",
      "metadata": {
        "colab": {
          "base_uri": "https://localhost:8080/"
        },
        "id": "5927ogn6ouFA",
        "outputId": "bee2f7ae-4756-43b7-ad0c-a4411e425ae5"
      },
      "source": [
        "!pip3 install ColabTurtle"
      ],
      "execution_count": 25,
      "outputs": [
        {
          "output_type": "stream",
          "text": [
            "Collecting ColabTurtle\n",
            "  Downloading https://files.pythonhosted.org/packages/49/01/6da7091c2c6c917cce99c000b89acb6aa27b66ef6eafc0c0ccf59b98694f/ColabTurtle-2.0.0.tar.gz\n",
            "Building wheels for collected packages: ColabTurtle\n",
            "  Building wheel for ColabTurtle (setup.py) ... \u001b[?25l\u001b[?25hdone\n",
            "  Created wheel for ColabTurtle: filename=ColabTurtle-2.0.0-cp36-none-any.whl size=4032 sha256=1b96a92636b943ae6e50df67b2778bf24bd2600f265321bf9a009d375ae4184a\n",
            "  Stored in directory: /root/.cache/pip/wheels/a8/29/ec/ad346f0042ae467cc74f4378916348faf975b07890651dcae7\n",
            "Successfully built ColabTurtle\n",
            "Installing collected packages: ColabTurtle\n",
            "Successfully installed ColabTurtle-2.0.0\n"
          ],
          "name": "stdout"
        }
      ]
    },
    {
      "cell_type": "code",
      "metadata": {
        "colab": {
          "base_uri": "https://localhost:8080/",
          "height": 521
        },
        "id": "G01H9DWToswx",
        "outputId": "5b24a791-0a99-4e52-a3c1-3da7624f6b7e"
      },
      "source": [
        "import ColabTurtle \r\n",
        "\r\n",
        "tartaruga = ColabTurtle.Turtle\r\n",
        "tartaruga.initializeTurtle()\r\n",
        "tartaruga.forward(100)\r\n",
        "tartaruga.right(90)\r\n",
        "tartaruga.forward(100)"
      ],
      "execution_count": 33,
      "outputs": [
        {
          "output_type": "display_data",
          "data": {
            "text/html": [
              "\n",
              "      <svg width=\"800\" height=\"500\">\n",
              "        <rect width=\"100%\" height=\"100%\" fill=\"black\"/>\n",
              "        <line x1=\"400\" y1=\"250\" x2=\"400.0\" y2=\"150.0\" stroke-linecap=\"round\" style=\"stroke:white;stroke-width:4\"/><line x1=\"400.0\" y1=\"150.0\" x2=\"500.0\" y2=\"150.0\" stroke-linecap=\"round\" style=\"stroke:white;stroke-width:4\"/><line x1=\"500.0\" y1=\"150.0\" x2=\"586.6025403784438\" y2=\"99.99999999999996\" stroke-linecap=\"round\" style=\"stroke:blue;stroke-width:4\"/><line x1=\"586.6025403784438\" y1=\"99.99999999999996\" x2=\"629.9038105676657\" y2=\"74.99999999999994\" stroke-linecap=\"round\" style=\"stroke:blue;stroke-width:4\"/><line x1=\"629.9038105676657\" y1=\"74.99999999999994\" x2=\"716.5063509461095\" y2=\"24.9999999999999\" stroke-linecap=\"round\" style=\"stroke:red;stroke-width:4\"/>\n",
              "        \n",
              "      <g visibility=visible transform=\"rotate(-70,716.5063509461095,24.9999999999999) translate(716.5063509461095, 24.9999999999999)\">\n",
              "        <circle stroke=\"red\" stroke-width=\"3\" fill=\"transparent\" r=\"12\" cx=\"0\" cy=\"0\"/>\n",
              "        <polygon points=\"0,19 3,16 -3,16\" style=\"fill:red;stroke:red;stroke-width:2\"/>\n",
              "      </g>\n",
              "    \n",
              "      </svg>\n",
              "    "
            ],
            "text/plain": [
              "<IPython.core.display.HTML object>"
            ]
          },
          "metadata": {
            "tags": []
          }
        }
      ]
    },
    {
      "cell_type": "markdown",
      "metadata": {
        "id": "mqmyh9z2pCsv"
      },
      "source": [
        "Tente modificar o código acima alterando os parâmetros das funções e adicionando alguns dos códigos abaixo (pode repetir, colocar ou tirar qual você quiser):\r\n",
        "\r\n",
        "```\r\n",
        "tartaruga.color('red') #troque red por blue, yellow...\r\n",
        "tartaruga.left(x) #troque x por um ângulo\r\n",
        "tartaruga.right(50) #troque x por um ângulo\r\n",
        "```\r\n",
        "\r\n",
        "Veja mais opções [aqui](https://medium.com/reflex%C3%A3o-computacional/m%C3%B3dulo-turtle-d8949db55008)\r\n",
        "\r\n"
      ]
    },
    {
      "cell_type": "markdown",
      "metadata": {
        "id": "xkA0_BzzmZYN"
      },
      "source": [
        "# Isso não é tudo, pessoal!"
      ]
    },
    {
      "cell_type": "markdown",
      "metadata": {
        "id": "-EJVvy-umeY4"
      },
      "source": [
        "Esse tutorial chega ao fim, mas está bem longe de ser uma boa aula de Python, já que o que mais foi abordado aqui foram apenas alguns conceitos. Queremos que tenham uma base conceitual para entender o que vai estar escrito nos tutoriais daqui em diante. O conteúdo é extenso, mas é acessível nas video-aulas e apostilas na internet, muitos em Português, então não exitem em pesquisar mais sobre. Acreditem, programar é muito mais divertido do que esta aula. "
      ]
    }
  ]
}