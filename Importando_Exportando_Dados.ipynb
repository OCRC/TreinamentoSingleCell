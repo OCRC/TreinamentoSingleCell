{
  "nbformat": 4,
  "nbformat_minor": 0,
  "metadata": {
    "colab": {
      "name": "Untitled4.ipynb",
      "provenance": [],
      "authorship_tag": "ABX9TyNeO7ibHTjRs1QWH16h4t5G",
      "include_colab_link": true
    },
    "kernelspec": {
      "name": "python3",
      "display_name": "Python 3"
    }
  },
  "cells": [
    {
      "cell_type": "markdown",
      "metadata": {
        "id": "view-in-github",
        "colab_type": "text"
      },
      "source": [
        "<a href=\"https://colab.research.google.com/github/davisidarta/TreinamentoSingleCell/blob/main/Importando_Exportando_Dados.ipynb\" target=\"_parent\"><img src=\"https://colab.research.google.com/assets/colab-badge.svg\" alt=\"Open In Colab\"/></a>"
      ]
    },
    {
      "cell_type": "markdown",
      "metadata": {
        "id": "O50oulGy6vEC"
      },
      "source": [
        "## Importando e limpando dados de sequenciamento single-cell\r\n",
        "\r\n",
        "  Existem diversas maneiras de armazenar dados de single-cell. Esses dados são compostos de dois componentes principais: a matriz de expressão gênica e os metadados (informações sobre cada célula sequenciada, como de qual amostra veio, em qual lote foi sequenciada, qual seu tipo celular etc). \r\n",
        "\r\n",
        "  A matriz de expressão gênica pode ser salva em vários formatos de arquivos: pode ser um arquivo de texto (.txt), uma tabela de Excel (.csv), ou formatos mais sofisticados usados para armazenar *big-data*, como matrizes esparsas (.mtx) ou arquivos baseados em h5 (h5ad, loom, h5Seurat). \r\n",
        "\r\n",
        "  Na atividade de hoje, iremos aprender sobre os diversos tipos de formatos possíveis, e como importá-los para seu ambiente de trabalho. Também vamos aprender como salvar seus dados em diversos formatos de modo a não ocupar tanto espaço no disco. Vamos lá?\r\n",
        "\r\n"
      ]
    },
    {
      "cell_type": "code",
      "metadata": {
        "id": "yskS3uDQ6ucq"
      },
      "source": [
        ""
      ],
      "execution_count": null,
      "outputs": []
    }
  ]
}